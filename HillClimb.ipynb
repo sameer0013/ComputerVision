{
 "cells": [
  {
   "cell_type": "code",
   "execution_count": 1,
   "id": "8a37adfe",
   "metadata": {},
   "outputs": [
    {
     "name": "stdout",
     "output_type": "stream",
     "text": [
      "Requirement already satisfied: pydirectinput in c:\\users\\sameer aggarwal\\appdata\\local\\programs\\python\\python37\\lib\\site-packages (1.0.4)\n",
      "Note: you may need to restart the kernel to use updated packages.\n"
     ]
    },
    {
     "name": "stderr",
     "output_type": "stream",
     "text": [
      "\n",
      "[notice] A new release of pip available: 22.2.2 -> 22.3\n",
      "[notice] To update, run: python.exe -m pip install --upgrade pip\n"
     ]
    }
   ],
   "source": [
    "pip install pydirectinput"
   ]
  },
  {
   "cell_type": "code",
   "execution_count": 2,
   "id": "01fe31a2",
   "metadata": {},
   "outputs": [
    {
     "name": "stdout",
     "output_type": "stream",
     "text": [
      "Requirement already satisfied: pip in c:\\users\\sameer aggarwal\\appdata\\local\\programs\\python\\python37\\lib\\site-packages (22.2.2)\n",
      "Collecting pip\n",
      "  Downloading pip-22.3-py3-none-any.whl (2.1 MB)\n",
      "     ---------------------------------------- 2.1/2.1 MB 8.7 MB/s eta 0:00:00\n",
      "Installing collected packages: pip\n",
      "  Attempting uninstall: pip\n",
      "    Found existing installation: pip 22.2.2\n",
      "    Uninstalling pip-22.2.2:\n",
      "      Successfully uninstalled pip-22.2.2\n",
      "Successfully installed pip-22.3\n"
     ]
    }
   ],
   "source": [
    "!python.exe -m pip install --upgrade pip"
   ]
  },
  {
   "cell_type": "code",
   "execution_count": 1,
   "id": "a432b708",
   "metadata": {},
   "outputs": [],
   "source": [
    "import cv2\n",
    "import mediapipe as mp\n",
    "import pydirectinput"
   ]
  },
  {
   "cell_type": "code",
   "execution_count": 2,
   "id": "964f74d0",
   "metadata": {},
   "outputs": [],
   "source": [
    "mp_drawing = mp.solutions.drawing_utils\n",
    "mp_holistic = mp.solutions.holistic\n",
    "mp_pose = mp.solutions.pose"
   ]
  },
  {
   "cell_type": "code",
   "execution_count": 13,
   "id": "bb155a5e",
   "metadata": {},
   "outputs": [],
   "source": [
    "cap = cv2.VideoCapture(0)\n",
    "cap.set(3,560) #width\n",
    "cap.set(4,400)  #height\n",
    "with mp_holistic.Holistic(min_detection_confidence=0.5,min_tracking_confidence=0.5) as holistic:\n",
    "    while cap.isOpened():\n",
    "        boolean,frame = cap.read()\n",
    "        frame = cv2.flip(frame,1) #fliping image\n",
    "        img = cv2.cvtColor(frame,cv2.COLOR_BGR2RGB)\n",
    "        results = holistic.process(img)\n",
    "        img = cv2.cvtColor(img,cv2.COLOR_RGB2BGR)\n",
    "        \n",
    "        height,width,_ = img.shape\n",
    "        \n",
    "        try:\n",
    "            right_hand = (results.pose_landmarks.landmark[mp_pose.PoseLandmark.LEFT_WRIST].x * width,\n",
    "                           results.pose_landmarks.landmark[mp_pose.PoseLandmark.LEFT_WRIST].y * height)\n",
    "#             left_hand = (results.pose_landmarks.landmark[mp_pose.PoseLandmark.RIGHT_WRIST].x * width,\n",
    "#                             results.pose_landmarks.landmark[mp_pose.PoseLandmark.RIGHT_WRIST].y * height)\n",
    "            y_mid = height//2;\n",
    "    \n",
    "            pose =\"move\"\n",
    "            \n",
    "            if(right_hand[1]<y_mid):\n",
    "                pose =\"acc\"\n",
    "                pydirectinput.keyDown('up')\n",
    "                pydirectinput.keyUp('down')\n",
    "            elif(right_hand[1]>y_mid):\n",
    "                pose=\"brake\"\n",
    "                pydirectinput.keyDown('down')\n",
    "                pydirectinput.keyUp('up')\n",
    "                \n",
    "        except:\n",
    "              pass\n",
    "        cv2.putText(img,pose,(20,y_mid),cv2.FONT_HERSHEY_PLAIN,2,(255,255,0),2)\n",
    "        cv2.line(img,(0,y_mid),(width,y_mid),(0,0,255),2)\n",
    "        cv2.imshow(\"CarGame\",img)\n",
    "        if cv2.waitKey(1)==ord('q'):\n",
    "            break\n",
    "                \n",
    "        \n",
    "                \n",
    "cap.release()\n",
    "cv2.destroyAllWindows()\n",
    "            \n",
    "            \n",
    "            "
   ]
  },
  {
   "cell_type": "code",
   "execution_count": 11,
   "id": "057ebad8",
   "metadata": {},
   "outputs": [],
   "source": [
    "cap.release()\n",
    "cv2.destroyAllWindows()"
   ]
  },
  {
   "cell_type": "code",
   "execution_count": null,
   "id": "c0aa0829",
   "metadata": {},
   "outputs": [],
   "source": []
  }
 ],
 "metadata": {
  "kernelspec": {
   "display_name": "Python 3",
   "language": "python",
   "name": "python3"
  },
  "language_info": {
   "codemirror_mode": {
    "name": "ipython",
    "version": 3
   },
   "file_extension": ".py",
   "mimetype": "text/x-python",
   "name": "python",
   "nbconvert_exporter": "python",
   "pygments_lexer": "ipython3",
   "version": "3.7.6"
  }
 },
 "nbformat": 4,
 "nbformat_minor": 5
}
