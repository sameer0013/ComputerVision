{
 "cells": [
  {
   "cell_type": "code",
   "execution_count": 1,
   "id": "aee75fc1",
   "metadata": {},
   "outputs": [],
   "source": [
    "import cv2\n",
    "import mediapipe as mp\n",
    "import pyautogui\n",
    "import numpy as np"
   ]
  },
  {
   "cell_type": "code",
   "execution_count": 2,
   "id": "d6409ed0",
   "metadata": {},
   "outputs": [],
   "source": [
    "mp_drawing = mp.solutions.drawing_utils\n",
    "mp_holistic = mp.solutions.holistic\n",
    "mp_pose = mp.solutions.pose"
   ]
  },
  {
   "cell_type": "code",
   "execution_count": 11,
   "id": "15914fce",
   "metadata": {},
   "outputs": [],
   "source": [
    "def calculate_angel(a,b,c):\n",
    "    a = np.array(a)\n",
    "    b = np.array(b)\n",
    "    c = np.array(c)\n",
    "    radians = np.arctan2(c[1]-b[1],c[0]-b[0]) - np.arctan2(a[1]-b[1],a[0]-b[0])\n",
    "    angle = np.abs(radians*180.0/np.pi)\n",
    "    if angle > 180.0:\n",
    "        angle = 360 - angle\n",
    "    return angle"
   ]
  },
  {
   "cell_type": "code",
   "execution_count": 43,
   "id": "a627e2da",
   "metadata": {},
   "outputs": [],
   "source": [
    "cap = cv2.VideoCapture(0)\n",
    "# cap.set(10,100)\n",
    "# cap.set(20,100)\n",
    "l_counter=0\n",
    "l_stage = None\n",
    "r_counter=0\n",
    "r_stage=None\n",
    "with mp_pose.Pose(min_detection_confidence=0.5,min_tracking_confidence = 0.5) as pose:\n",
    "    while cap.isOpened():\n",
    "        _, frame = cap.read()\n",
    "#         frame = cv2.flip(frame)\n",
    "        img = cv2.cvtColor(frame,cv2.COLOR_BGR2RGB)\n",
    "        results = pose.process(img)\n",
    "        img = cv2.cvtColor(img,cv2.COLOR_RGB2BGR)\n",
    "        height,width,channels = img.shape\n",
    "        try:\n",
    "#         Extracting landmarks\n",
    "            landmarks = results.pose_landmarks.landmark\n",
    "        \n",
    "            left_shoulder = [landmarks[mp_pose.PoseLandmark.LEFT_SHOULDER.value].x,\n",
    "                       landmarks[mp_pose.PoseLandmark.LEFT_SHOULDER.value].y]\n",
    "        \n",
    "            left_elbow = [landmarks[mp_pose.PoseLandmark.LEFT_ELBOW.value].x,\n",
    "                       landmarks[mp_pose.PoseLandmark.LEFT_ELBOW.value].y]\n",
    "        \n",
    "            left_Wrist = [landmarks[mp_pose.PoseLandmark.LEFT_WRIST.value].x,\n",
    "                       landmarks[mp_pose.PoseLandmark.LEFT_WRIST.value].y]\n",
    "        \n",
    "            l_angle = calculate_angel(left_shoulder,left_elbow,left_Wrist)\n",
    "            cv2.putText(img,str(l_angle),\n",
    "                        tuple(np.multiply(left_elbow,[640,480]).astype(int)),\n",
    "                        cv2.FONT_HERSHEY_SIMPLEX,0.5,(255,255,255),2,cv2.LINE_AA\n",
    "                       )\n",
    "            \n",
    "            if l_angle > 160:\n",
    "                l_stage = \"down\"\n",
    "            if l_angle < 30 and l_stage ==\"down\":\n",
    "                l_stage = \"up\"\n",
    "                l_counter += 1\n",
    "#                 print(l_counter)\n",
    "        \n",
    "            right_shoulder = [landmarks[mp_pose.PoseLandmark.RIGHT_SHOULDER.value].x,\n",
    "                       landmarks[mp_pose.PoseLandmark.RIGHT_SHOULDER.value].y]\n",
    "        \n",
    "            right_elbow = [landmarks[mp_pose.PoseLandmark.RIGHT_ELBOW.value].x,\n",
    "                       landmarks[mp_pose.PoseLandmark.RIGHT_ELBOW.value].y]\n",
    "        \n",
    "            right_Wrist = [landmarks[mp_pose.PoseLandmark.RIGHT_WRIST.value].x,\n",
    "                       landmarks[mp_pose.PoseLandmark.RIGHT_WRIST.value].y]\n",
    "        \n",
    "            r_angle = calculate_angel(right_shoulder,right_elbow,right_Wrist)\n",
    "            cv2.putText(img,str(r_angle),\n",
    "                        tuple(np.multiply(right_elbow,[640,480]).astype(int)),\n",
    "                        cv2.FONT_HERSHEY_SIMPLEX,0.5,(255,255,255),2,cv2.LINE_AA\n",
    "                       )\n",
    "            \n",
    "            if r_angle > 160:\n",
    "                r_stage = \"down\"\n",
    "            if r_angle < 30 and r_stage ==\"down\":\n",
    "                r_stage = \"up\"\n",
    "                r_counter += 1\n",
    "\n",
    "\n",
    "        except:\n",
    "            pass\n",
    "        \n",
    "        cv2.rectangle(img,(0,0),(225,73),(245,117,16),-1)\n",
    "        \n",
    "        cv2.putText(img,'CNT',(15,12),\n",
    "                   cv2.FONT_HERSHEY_SIMPLEX,0.5,(0,0,0),1,cv2.LINE_AA)\n",
    "        \n",
    "        cv2.putText(img,str(l_counter),(10,60),\n",
    "                   cv2.FONT_HERSHEY_SIMPLEX,2,(255,255,255),2,cv2.LINE_AA)\n",
    "      \n",
    "        cv2.putText(img,'stage',(65,12),\n",
    "                   cv2.FONT_HERSHEY_SIMPLEX,0.5,(0,0,0),1,cv2.LINE_AA)\n",
    "        \n",
    "        cv2.putText(img,l_stage,(60,60),\n",
    "                   cv2.FONT_HERSHEY_SIMPLEX,2,(255,255,255),2,cv2.LINE_AA)\n",
    "        \n",
    "        \n",
    "        \n",
    "        cv2.rectangle(img,(415,0),(640,73),(245,117,16),-1)\n",
    "        \n",
    "        cv2.putText(img,'CNT',(430,12),\n",
    "                   cv2.FONT_HERSHEY_SIMPLEX,0.5,(0,0,0),1,cv2.LINE_AA)\n",
    "        \n",
    "        cv2.putText(img,str(r_counter),(425,60),\n",
    "                   cv2.FONT_HERSHEY_SIMPLEX,2,(255,255,255),2,cv2.LINE_AA)\n",
    "      \n",
    "        cv2.putText(img,'stage',(480,12),\n",
    "                   cv2.FONT_HERSHEY_SIMPLEX,0.5,(0,0,0),1,cv2.LINE_AA)\n",
    "        \n",
    "        cv2.putText(img,r_stage,(475,60),\n",
    "                   cv2.FONT_HERSHEY_SIMPLEX,2,(255,255,255),2,cv2.LINE_AA)\n",
    "        \n",
    "        \n",
    "        mp_drawing.draw_landmarks(img,results.pose_landmarks,mp_pose.POSE_CONNECTIONS,\n",
    "                                  mp_drawing.DrawingSpec(color =(255,255,255),thickness = 5,circle_radius = 5)\n",
    "                                  ,mp_drawing.DrawingSpec(color =(255,0,0),thickness = 5,circle_radius = 5))\n",
    "        \n",
    "        cv2.imshow(\"Gym Assistant\",img)\n",
    "        if cv2.waitKey(10) & 0xff== ord('q'):\n",
    "            break\n",
    "            \n",
    "            \n",
    "cap.release()\n",
    "cv2.destroyAllWindows()"
   ]
  },
  {
   "cell_type": "code",
   "execution_count": 27,
   "id": "feaefc70",
   "metadata": {},
   "outputs": [],
   "source": [
    "cap.release()\n",
    "cv2.destroyAllWindows()"
   ]
  },
  {
   "cell_type": "code",
   "execution_count": 36,
   "id": "cc50a254",
   "metadata": {},
   "outputs": [
    {
     "data": {
      "text/plain": [
       "(640, 480)"
      ]
     },
     "execution_count": 36,
     "metadata": {},
     "output_type": "execute_result"
    }
   ],
   "source": [
    "width,height"
   ]
  },
  {
   "cell_type": "code",
   "execution_count": 40,
   "id": "31c28789",
   "metadata": {},
   "outputs": [
    {
     "data": {
      "text/plain": [
       "475"
      ]
     },
     "execution_count": 40,
     "metadata": {},
     "output_type": "execute_result"
    }
   ],
   "source": [
    "width-225+60"
   ]
  },
  {
   "cell_type": "code",
   "execution_count": null,
   "id": "b59f045a",
   "metadata": {},
   "outputs": [],
   "source": []
  }
 ],
 "metadata": {
  "kernelspec": {
   "display_name": "Python 3",
   "language": "python",
   "name": "python3"
  },
  "language_info": {
   "codemirror_mode": {
    "name": "ipython",
    "version": 3
   },
   "file_extension": ".py",
   "mimetype": "text/x-python",
   "name": "python",
   "nbconvert_exporter": "python",
   "pygments_lexer": "ipython3",
   "version": "3.7.6"
  }
 },
 "nbformat": 4,
 "nbformat_minor": 5
}
