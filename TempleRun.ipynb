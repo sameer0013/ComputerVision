{
 "cells": [
  {
   "cell_type": "code",
   "execution_count": 2,
   "id": "bf674254",
   "metadata": {},
   "outputs": [],
   "source": [
    "import cv2\n",
    "import pydirectinput\n",
    "import mediapipe as mp"
   ]
  },
  {
   "cell_type": "code",
   "execution_count": 22,
   "id": "1321f030",
   "metadata": {},
   "outputs": [],
   "source": [
    "import pyautogui"
   ]
  },
  {
   "cell_type": "code",
   "execution_count": 4,
   "id": "bc22c8aa",
   "metadata": {},
   "outputs": [],
   "source": [
    "mp_drawing = mp.solutions.drawing_utils\n",
    "mp_holistic = mp.solutions.holistic\n",
    "mp_pose = mp.solutions.pose"
   ]
  },
  {
   "cell_type": "code",
   "execution_count": 25,
   "id": "76f65750",
   "metadata": {},
   "outputs": [],
   "source": [
    "cap = cv2.VideoCapture(0)\n",
    "cap.set(3,720) #width\n",
    "cap.set(4,540) #height\n",
    "pose = \"\"\n",
    "status = 0\n",
    "with mp_holistic.Holistic(min_detection_confidence = 0.5, min_tracking_confidence=0.5) as holistic:\n",
    "    while cap.isOpened():\n",
    "        _, frame = cap.read()\n",
    "        frame = cv2.flip(frame,1) # left hand <-> right hand \n",
    "        img = cv2.cvtColor(frame,cv2.COLOR_BGR2RGB)\n",
    "        results = holistic.process(img)\n",
    "        img = cv2.cvtColor(img,cv2.COLOR_RGB2BGR)\n",
    "        \n",
    "        height,width,_ = img.shape\n",
    "        \n",
    "#         cv2.imshow(\"Image\",img)\n",
    "        try:\n",
    "            right_hand = (results.pose_landmarks.landmark[mp_pose.PoseLandmark.LEFT_WRIST].x*width,\n",
    "                          results.pose_landmarks.landmark[mp_pose.PoseLandmark.LEFT_WRIST].y*height)\n",
    "            line_x1 = width//3\n",
    "            line_x2 = 2*(width//3)\n",
    "            line_y1 = height//3\n",
    "            line_y2 = 2*(height//3)\n",
    "            \n",
    "            if right_hand[0]>line_x2 and right_hand[1]<line_y1 :\n",
    "                pose = 'start'\n",
    "                status = 1\n",
    "                pyautogui.keyDown('space')\n",
    "                pyautogui.keyUp('space')\n",
    "            elif right_hand[0]>line_x2 and right_hand[1]>line_y1 and right_hand[1]<line_y2 and status ==1:\n",
    "                pose = 'Right'\n",
    "                pyautogui.keyDown('right')\n",
    "                pyautogui.keyUp('right')\n",
    "            elif right_hand[0]<line_x1 and right_hand[1]>line_y1 and right_hand[1]<line_y2 and status ==1:\n",
    "                pose = 'Left'  \n",
    "                pyautogui.keyDown('left')\n",
    "                pyautogui.keyUp('left')\n",
    "            elif right_hand[0]>line_x1 and right_hand[0]<line_x2 and right_hand[1]<line_y1 and status ==1:\n",
    "                pose = 'jump'  \n",
    "                pyautogui.keyDown('up')\n",
    "                pyautogui.keyUp('up')\n",
    "                \n",
    "            elif right_hand[0]>line_x1 and right_hand[0]<line_x2 and right_hand[1]>line_y2 and status ==1:\n",
    "                pose = 'down' \n",
    "                pyautogui.keyDown('down')\n",
    "                pyautogui.keyUp('down')\n",
    "                \n",
    "            elif status ==0:\n",
    "                pose ='Play or Resume'\n",
    "            else:\n",
    "                pose = 'Run'\n",
    "                \n",
    "        except:\n",
    "            pass\n",
    "        \n",
    "        cv2.putText(img,pose,(width//3,height//3),cv2.FONT_HERSHEY_PLAIN,2,(252,252,52),3)\n",
    "        cv2.line(img,(width//3,0),(width//3,height),(52,52,52),2)\n",
    "        cv2.line(img,(2*(width//3),0),(2*(width//3),height),(52,52,52),2)\n",
    "        cv2.line(img,(0,height//3),(width,height//3),(52,52,52),2)\n",
    "        cv2.line(img,(0,2*(height//3)),(width,2*(height//3)),(52,52,52),2)\n",
    "        \n",
    "        mp_drawing.draw_landmarks(img,results.pose_landmarks,mp_holistic.POSE_CONNECTIONS,\n",
    "                                 mp_drawing.DrawingSpec(color=(180,105,255),thickness =5,circle_radius=8),\n",
    "                                 mp_drawing.DrawingSpec(color = (255,255,255),thickness = 10, circle_radius=10))\n",
    "        \n",
    "        cv2.imshow(\"Temple Run\",img)\n",
    "        \n",
    "        if cv2.waitKey(1) & 0xff==ord('q'):\n",
    "            break\n",
    "        \n",
    "        \n",
    "cap.release()\n",
    "cv2.destroyAllWindows()\n",
    "        \n",
    "               "
   ]
  },
  {
   "cell_type": "code",
   "execution_count": 16,
   "id": "3434481e",
   "metadata": {},
   "outputs": [],
   "source": [
    "cap.release()\n",
    "cv2.destroyAllWindows()      "
   ]
  },
  {
   "cell_type": "code",
   "execution_count": null,
   "id": "bb6853da",
   "metadata": {},
   "outputs": [],
   "source": []
  }
 ],
 "metadata": {
  "kernelspec": {
   "display_name": "Python 3",
   "language": "python",
   "name": "python3"
  },
  "language_info": {
   "codemirror_mode": {
    "name": "ipython",
    "version": 3
   },
   "file_extension": ".py",
   "mimetype": "text/x-python",
   "name": "python",
   "nbconvert_exporter": "python",
   "pygments_lexer": "ipython3",
   "version": "3.7.6"
  }
 },
 "nbformat": 4,
 "nbformat_minor": 5
}
